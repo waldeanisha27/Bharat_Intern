{
 "cells": [
  {
   "attachments": {
    "download%20%281%29.png": {
     "image/png": "[encoded data removed]"
    }
   },
   "cell_type": "markdown",
   "id": "2de86278",
   "metadata": {},
   "source": [
    "![download%20%281%29.png](attachment:download%20%281%29.png)"
   ]
  },
  {
   "cell_type": "markdown",
   "id": "ba577487",
   "metadata": {},
   "source": [
    "# Data Science Internship \n",
    "# - Anisha Walde\n",
    "# Task 1 - Stock Prediction "
   ]
  },
  {
   "cell_type": "markdown",
   "id": "bface9df",
   "metadata": {},
   "source": [
    "Stock Price Prediction with LSTM using Microsoft (MSFT) Dataset"
   ]
  },
  {
   "cell_type": "code",
   "execution_count": 1,
   "id": "8f172ebb",
   "metadata": {},
   "outputs": [
    {
     "name": "stderr",
     "output_type": "stream",
     "text": [
      "C:\\Users\\Hp\\anaconda3\\lib\\site-packages\\scipy\\__init__.py:146: UserWarning: A NumPy version >=1.16.5 and <1.23.0 is required for this version of SciPy (detected version 1.24.3\n",
      "  warnings.warn(f\"A NumPy version >={np_minversion} and <{np_maxversion}\"\n"
     ]
    }
   ],
   "source": [
    "# Import Libraries\n",
    "import numpy as np\n",
    "import pandas as pd\n",
    "import matplotlib.pyplot as plt\n",
    "import tensorflow as tf\n",
    "from tensorflow.keras.models import Sequential\n",
    "from tensorflow.keras.layers import LSTM, Dense\n",
    "from sklearn.preprocessing import MinMaxScaler"
   ]
  },
  {
   "cell_type": "code",
   "execution_count": 2,
   "id": "0cacf41b",
   "metadata": {},
   "outputs": [],
   "source": [
    "# Load the dataset\n",
    "df = pd.read_csv('MSFT.csv')"
   ]
  },
  {
   "cell_type": "code",
   "execution_count": 3,
   "id": "d017e0df",
   "metadata": {},
   "outputs": [
    {
     "data": {
      "text/html": [
       "<div>\n",
       "<style scoped>\n",
       "    .dataframe tbody tr th:only-of-type {\n",
       "        vertical-align: middle;\n",
       "    }\n",
       "\n",
       "    .dataframe tbody tr th {\n",
       "        vertical-align: top;\n",
       "    }\n",
       "\n",
       "    .dataframe thead th {\n",
       "        text-align: right;\n",
       "    }\n",
       "</style>\n",
       "<table border=\"1\" class=\"dataframe\">\n",
       "  <thead>\n",
       "    <tr style=\"text-align: right;\">\n",
       "      <th></th>\n",
       "      <th>Date</th>\n",
       "      <th>Open</th>\n",
       "      <th>High</th>\n",
       "      <th>Low</th>\n",
       "      <th>Close</th>\n",
       "      <th>Adj Close</th>\n",
       "      <th>Volume</th>\n",
       "    </tr>\n",
       "  </thead>\n",
       "  <tbody>\n",
       "    <tr>\n",
       "      <th>0</th>\n",
       "      <td>1986-03-13</td>\n",
       "      <td>0.088542</td>\n",
       "      <td>0.101563</td>\n",
       "      <td>0.088542</td>\n",
       "      <td>0.097222</td>\n",
       "      <td>0.061751</td>\n",
       "      <td>1031788800</td>\n",
       "    </tr>\n",
       "    <tr>\n",
       "      <th>1</th>\n",
       "      <td>1986-03-14</td>\n",
       "      <td>0.097222</td>\n",
       "      <td>0.102431</td>\n",
       "      <td>0.097222</td>\n",
       "      <td>0.100694</td>\n",
       "      <td>0.063956</td>\n",
       "      <td>308160000</td>\n",
       "    </tr>\n",
       "    <tr>\n",
       "      <th>2</th>\n",
       "      <td>1986-03-17</td>\n",
       "      <td>0.100694</td>\n",
       "      <td>0.103299</td>\n",
       "      <td>0.100694</td>\n",
       "      <td>0.102431</td>\n",
       "      <td>0.065059</td>\n",
       "      <td>133171200</td>\n",
       "    </tr>\n",
       "    <tr>\n",
       "      <th>3</th>\n",
       "      <td>1986-03-18</td>\n",
       "      <td>0.102431</td>\n",
       "      <td>0.103299</td>\n",
       "      <td>0.098958</td>\n",
       "      <td>0.099826</td>\n",
       "      <td>0.063405</td>\n",
       "      <td>67766400</td>\n",
       "    </tr>\n",
       "    <tr>\n",
       "      <th>4</th>\n",
       "      <td>1986-03-19</td>\n",
       "      <td>0.099826</td>\n",
       "      <td>0.100694</td>\n",
       "      <td>0.097222</td>\n",
       "      <td>0.098090</td>\n",
       "      <td>0.062302</td>\n",
       "      <td>47894400</td>\n",
       "    </tr>\n",
       "  </tbody>\n",
       "</table>\n",
       "</div>"
      ],
      "text/plain": [
       "         Date      Open      High       Low     Close  Adj Close      Volume\n",
       "0  1986-03-13  0.088542  0.101563  0.088542  0.097222   0.061751  1031788800\n",
       "1  1986-03-14  0.097222  0.102431  0.097222  0.100694   0.063956   308160000\n",
       "2  1986-03-17  0.100694  0.103299  0.100694  0.102431   0.065059   133171200\n",
       "3  1986-03-18  0.102431  0.103299  0.098958  0.099826   0.063405    67766400\n",
       "4  1986-03-19  0.099826  0.100694  0.097222  0.098090   0.062302    47894400"
      ]
     },
     "execution_count": 3,
     "metadata": {},
     "output_type": "execute_result"
    }
   ],
   "source": [
    "# Display the first few rows of the dataset\n",
    "df.head()"
   ]
  },
  {
   "cell_type": "code",
   "execution_count": 4,
   "id": "69215cc3",
   "metadata": {},
   "outputs": [
    {
     "data": {
      "text/html": [
       "<div>\n",
       "<style scoped>\n",
       "    .dataframe tbody tr th:only-of-type {\n",
       "        vertical-align: middle;\n",
       "    }\n",
       "\n",
       "    .dataframe tbody tr th {\n",
       "        vertical-align: top;\n",
       "    }\n",
       "\n",
       "    .dataframe thead th {\n",
       "        text-align: right;\n",
       "    }\n",
       "</style>\n",
       "<table border=\"1\" class=\"dataframe\">\n",
       "  <thead>\n",
       "    <tr style=\"text-align: right;\">\n",
       "      <th></th>\n",
       "      <th>Date</th>\n",
       "      <th>Open</th>\n",
       "      <th>High</th>\n",
       "      <th>Low</th>\n",
       "      <th>Close</th>\n",
       "      <th>Adj Close</th>\n",
       "      <th>Volume</th>\n",
       "    </tr>\n",
       "  </thead>\n",
       "  <tbody>\n",
       "    <tr>\n",
       "      <th>8852</th>\n",
       "      <td>2021-04-27</td>\n",
       "      <td>261.579987</td>\n",
       "      <td>263.190002</td>\n",
       "      <td>260.119995</td>\n",
       "      <td>261.970001</td>\n",
       "      <td>261.970001</td>\n",
       "      <td>31014200</td>\n",
       "    </tr>\n",
       "    <tr>\n",
       "      <th>8853</th>\n",
       "      <td>2021-04-28</td>\n",
       "      <td>256.079987</td>\n",
       "      <td>256.540009</td>\n",
       "      <td>252.949997</td>\n",
       "      <td>254.559998</td>\n",
       "      <td>254.559998</td>\n",
       "      <td>46903100</td>\n",
       "    </tr>\n",
       "    <tr>\n",
       "      <th>8854</th>\n",
       "      <td>2021-04-29</td>\n",
       "      <td>255.460007</td>\n",
       "      <td>256.100006</td>\n",
       "      <td>249.000000</td>\n",
       "      <td>252.509995</td>\n",
       "      <td>252.509995</td>\n",
       "      <td>40589000</td>\n",
       "    </tr>\n",
       "    <tr>\n",
       "      <th>8855</th>\n",
       "      <td>2021-04-30</td>\n",
       "      <td>249.740005</td>\n",
       "      <td>253.080002</td>\n",
       "      <td>249.600006</td>\n",
       "      <td>252.179993</td>\n",
       "      <td>252.179993</td>\n",
       "      <td>30929200</td>\n",
       "    </tr>\n",
       "    <tr>\n",
       "      <th>8856</th>\n",
       "      <td>2021-05-03</td>\n",
       "      <td>253.399994</td>\n",
       "      <td>254.350006</td>\n",
       "      <td>251.119995</td>\n",
       "      <td>251.860001</td>\n",
       "      <td>251.860001</td>\n",
       "      <td>19598900</td>\n",
       "    </tr>\n",
       "  </tbody>\n",
       "</table>\n",
       "</div>"
      ],
      "text/plain": [
       "            Date        Open        High         Low       Close   Adj Close  \\\n",
       "8852  2021-04-27  261.579987  263.190002  260.119995  261.970001  261.970001   \n",
       "8853  2021-04-28  256.079987  256.540009  252.949997  254.559998  254.559998   \n",
       "8854  2021-04-29  255.460007  256.100006  249.000000  252.509995  252.509995   \n",
       "8855  2021-04-30  249.740005  253.080002  249.600006  252.179993  252.179993   \n",
       "8856  2021-05-03  253.399994  254.350006  251.119995  251.860001  251.860001   \n",
       "\n",
       "        Volume  \n",
       "8852  31014200  \n",
       "8853  46903100  \n",
       "8854  40589000  \n",
       "8855  30929200  \n",
       "8856  19598900  "
      ]
     },
     "execution_count": 4,
     "metadata": {},
     "output_type": "execute_result"
    }
   ],
   "source": [
    "df.tail()"
   ]
  },
  {
   "cell_type": "code",
   "execution_count": 5,
   "id": "626af292",
   "metadata": {},
   "outputs": [
    {
     "data": {
      "text/plain": [
       "Index(['Date', 'Open', 'High', 'Low', 'Close', 'Adj Close', 'Volume'], dtype='object')"
      ]
     },
     "execution_count": 5,
     "metadata": {},
     "output_type": "execute_result"
    }
   ],
   "source": [
    "df.columns"
   ]
  },
  {
   "cell_type": "code",
   "execution_count": 6,
   "id": "eb238536",
   "metadata": {},
   "outputs": [
    {
     "data": {
      "text/plain": [
       "RangeIndex(start=0, stop=8857, step=1)"
      ]
     },
     "execution_count": 6,
     "metadata": {},
     "output_type": "execute_result"
    }
   ],
   "source": [
    "df.index"
   ]
  },
  {
   "cell_type": "code",
   "execution_count": 7,
   "id": "e82c7391",
   "metadata": {},
   "outputs": [
    {
     "data": {
      "text/html": [
       "<div>\n",
       "<style scoped>\n",
       "    .dataframe tbody tr th:only-of-type {\n",
       "        vertical-align: middle;\n",
       "    }\n",
       "\n",
       "    .dataframe tbody tr th {\n",
       "        vertical-align: top;\n",
       "    }\n",
       "\n",
       "    .dataframe thead th {\n",
       "        text-align: right;\n",
       "    }\n",
       "</style>\n",
       "<table border=\"1\" class=\"dataframe\">\n",
       "  <thead>\n",
       "    <tr style=\"text-align: right;\">\n",
       "      <th></th>\n",
       "      <th>Open</th>\n",
       "      <th>High</th>\n",
       "      <th>Low</th>\n",
       "      <th>Close</th>\n",
       "      <th>Adj Close</th>\n",
       "      <th>Volume</th>\n",
       "    </tr>\n",
       "  </thead>\n",
       "  <tbody>\n",
       "    <tr>\n",
       "      <th>count</th>\n",
       "      <td>8857.000000</td>\n",
       "      <td>8857.000000</td>\n",
       "      <td>8857.000000</td>\n",
       "      <td>8857.000000</td>\n",
       "      <td>8857.000000</td>\n",
       "      <td>8.857000e+03</td>\n",
       "    </tr>\n",
       "    <tr>\n",
       "      <th>mean</th>\n",
       "      <td>34.831233</td>\n",
       "      <td>35.209355</td>\n",
       "      <td>34.449657</td>\n",
       "      <td>34.840895</td>\n",
       "      <td>29.886536</td>\n",
       "      <td>5.953411e+07</td>\n",
       "    </tr>\n",
       "    <tr>\n",
       "      <th>std</th>\n",
       "      <td>44.060163</td>\n",
       "      <td>44.513443</td>\n",
       "      <td>43.597704</td>\n",
       "      <td>44.080986</td>\n",
       "      <td>44.195101</td>\n",
       "      <td>3.858121e+07</td>\n",
       "    </tr>\n",
       "    <tr>\n",
       "      <th>min</th>\n",
       "      <td>0.088542</td>\n",
       "      <td>0.092014</td>\n",
       "      <td>0.088542</td>\n",
       "      <td>0.090278</td>\n",
       "      <td>0.057340</td>\n",
       "      <td>2.304000e+06</td>\n",
       "    </tr>\n",
       "    <tr>\n",
       "      <th>25%</th>\n",
       "      <td>3.843750</td>\n",
       "      <td>3.875000</td>\n",
       "      <td>3.812500</td>\n",
       "      <td>3.851563</td>\n",
       "      <td>2.446323</td>\n",
       "      <td>3.559720e+07</td>\n",
       "    </tr>\n",
       "    <tr>\n",
       "      <th>50%</th>\n",
       "      <td>26.590000</td>\n",
       "      <td>26.879999</td>\n",
       "      <td>26.290001</td>\n",
       "      <td>26.590000</td>\n",
       "      <td>18.686628</td>\n",
       "      <td>5.269680e+07</td>\n",
       "    </tr>\n",
       "    <tr>\n",
       "      <th>75%</th>\n",
       "      <td>36.730000</td>\n",
       "      <td>37.000000</td>\n",
       "      <td>36.110001</td>\n",
       "      <td>36.660000</td>\n",
       "      <td>27.218300</td>\n",
       "      <td>7.339520e+07</td>\n",
       "    </tr>\n",
       "    <tr>\n",
       "      <th>max</th>\n",
       "      <td>261.660004</td>\n",
       "      <td>263.190002</td>\n",
       "      <td>260.170013</td>\n",
       "      <td>261.970001</td>\n",
       "      <td>261.970001</td>\n",
       "      <td>1.031789e+09</td>\n",
       "    </tr>\n",
       "  </tbody>\n",
       "</table>\n",
       "</div>"
      ],
      "text/plain": [
       "              Open         High          Low        Close    Adj Close  \\\n",
       "count  8857.000000  8857.000000  8857.000000  8857.000000  8857.000000   \n",
       "mean     34.831233    35.209355    34.449657    34.840895    29.886536   \n",
       "std      44.060163    44.513443    43.597704    44.080986    44.195101   \n",
       "min       0.088542     0.092014     0.088542     0.090278     0.057340   \n",
       "25%       3.843750     3.875000     3.812500     3.851563     2.446323   \n",
       "50%      26.590000    26.879999    26.290001    26.590000    18.686628   \n",
       "75%      36.730000    37.000000    36.110001    36.660000    27.218300   \n",
       "max     261.660004   263.190002   260.170013   261.970001   261.970001   \n",
       "\n",
       "             Volume  \n",
       "count  8.857000e+03  \n",
       "mean   5.953411e+07  \n",
       "std    3.858121e+07  \n",
       "min    2.304000e+06  \n",
       "25%    3.559720e+07  \n",
       "50%    5.269680e+07  \n",
       "75%    7.339520e+07  \n",
       "max    1.031789e+09  "
      ]
     },
     "execution_count": 7,
     "metadata": {},
     "output_type": "execute_result"
    }
   ],
   "source": [
    "df.describe()"
   ]
  },
  {
   "cell_type": "code",
   "execution_count": 8,
   "id": "5304c48e",
   "metadata": {},
   "outputs": [
    {
     "data": {
      "text/html": [
       "<div>\n",
       "<style scoped>\n",
       "    .dataframe tbody tr th:only-of-type {\n",
       "        vertical-align: middle;\n",
       "    }\n",
       "\n",
       "    .dataframe tbody tr th {\n",
       "        vertical-align: top;\n",
       "    }\n",
       "\n",
       "    .dataframe thead th {\n",
       "        text-align: right;\n",
       "    }\n",
       "</style>\n",
       "<table border=\"1\" class=\"dataframe\">\n",
       "  <thead>\n",
       "    <tr style=\"text-align: right;\">\n",
       "      <th></th>\n",
       "      <th>count</th>\n",
       "      <th>mean</th>\n",
       "      <th>std</th>\n",
       "      <th>min</th>\n",
       "      <th>25%</th>\n",
       "      <th>50%</th>\n",
       "      <th>75%</th>\n",
       "      <th>max</th>\n",
       "    </tr>\n",
       "  </thead>\n",
       "  <tbody>\n",
       "    <tr>\n",
       "      <th>Open</th>\n",
       "      <td>8857.0</td>\n",
       "      <td>3.483123e+01</td>\n",
       "      <td>4.406016e+01</td>\n",
       "      <td>8.854200e-02</td>\n",
       "      <td>3.843750e+00</td>\n",
       "      <td>2.659000e+01</td>\n",
       "      <td>3.673000e+01</td>\n",
       "      <td>2.616600e+02</td>\n",
       "    </tr>\n",
       "    <tr>\n",
       "      <th>High</th>\n",
       "      <td>8857.0</td>\n",
       "      <td>3.520935e+01</td>\n",
       "      <td>4.451344e+01</td>\n",
       "      <td>9.201400e-02</td>\n",
       "      <td>3.875000e+00</td>\n",
       "      <td>2.688000e+01</td>\n",
       "      <td>3.700000e+01</td>\n",
       "      <td>2.631900e+02</td>\n",
       "    </tr>\n",
       "    <tr>\n",
       "      <th>Low</th>\n",
       "      <td>8857.0</td>\n",
       "      <td>3.444966e+01</td>\n",
       "      <td>4.359770e+01</td>\n",
       "      <td>8.854200e-02</td>\n",
       "      <td>3.812500e+00</td>\n",
       "      <td>2.629000e+01</td>\n",
       "      <td>3.611000e+01</td>\n",
       "      <td>2.601700e+02</td>\n",
       "    </tr>\n",
       "    <tr>\n",
       "      <th>Close</th>\n",
       "      <td>8857.0</td>\n",
       "      <td>3.484089e+01</td>\n",
       "      <td>4.408099e+01</td>\n",
       "      <td>9.027800e-02</td>\n",
       "      <td>3.851563e+00</td>\n",
       "      <td>2.659000e+01</td>\n",
       "      <td>3.666000e+01</td>\n",
       "      <td>2.619700e+02</td>\n",
       "    </tr>\n",
       "    <tr>\n",
       "      <th>Adj Close</th>\n",
       "      <td>8857.0</td>\n",
       "      <td>2.988654e+01</td>\n",
       "      <td>4.419510e+01</td>\n",
       "      <td>5.734015e-02</td>\n",
       "      <td>2.446323e+00</td>\n",
       "      <td>1.868663e+01</td>\n",
       "      <td>2.721830e+01</td>\n",
       "      <td>2.619700e+02</td>\n",
       "    </tr>\n",
       "    <tr>\n",
       "      <th>Volume</th>\n",
       "      <td>8857.0</td>\n",
       "      <td>5.953411e+07</td>\n",
       "      <td>3.858121e+07</td>\n",
       "      <td>2.304000e+06</td>\n",
       "      <td>3.559720e+07</td>\n",
       "      <td>5.269680e+07</td>\n",
       "      <td>7.339520e+07</td>\n",
       "      <td>1.031789e+09</td>\n",
       "    </tr>\n",
       "  </tbody>\n",
       "</table>\n",
       "</div>"
      ],
      "text/plain": [
       "            count          mean           std           min           25%  \\\n",
       "Open       8857.0  3.483123e+01  4.406016e+01  8.854200e-02  3.843750e+00   \n",
       "High       8857.0  3.520935e+01  4.451344e+01  9.201400e-02  3.875000e+00   \n",
       "Low        8857.0  3.444966e+01  4.359770e+01  8.854200e-02  3.812500e+00   \n",
       "Close      8857.0  3.484089e+01  4.408099e+01  9.027800e-02  3.851563e+00   \n",
       "Adj Close  8857.0  2.988654e+01  4.419510e+01  5.734015e-02  2.446323e+00   \n",
       "Volume     8857.0  5.953411e+07  3.858121e+07  2.304000e+06  3.559720e+07   \n",
       "\n",
       "                    50%           75%           max  \n",
       "Open       2.659000e+01  3.673000e+01  2.616600e+02  \n",
       "High       2.688000e+01  3.700000e+01  2.631900e+02  \n",
       "Low        2.629000e+01  3.611000e+01  2.601700e+02  \n",
       "Close      2.659000e+01  3.666000e+01  2.619700e+02  \n",
       "Adj Close  1.868663e+01  2.721830e+01  2.619700e+02  \n",
       "Volume     5.269680e+07  7.339520e+07  1.031789e+09  "
      ]
     },
     "execution_count": 8,
     "metadata": {},
     "output_type": "execute_result"
    }
   ],
   "source": [
    "df.describe().transpose()"
   ]
  },
  {
   "cell_type": "code",
   "execution_count": 9,
   "id": "b7063beb",
   "metadata": {},
   "outputs": [
    {
     "data": {
      "text/plain": [
       "Date         0\n",
       "Open         0\n",
       "High         0\n",
       "Low          0\n",
       "Close        0\n",
       "Adj Close    0\n",
       "Volume       0\n",
       "dtype: int64"
      ]
     },
     "execution_count": 9,
     "metadata": {},
     "output_type": "execute_result"
    }
   ],
   "source": [
    "df.isna().sum()"
   ]
  },
  {
   "cell_type": "code",
   "execution_count": 10,
   "id": "ca91c59d",
   "metadata": {},
   "outputs": [
    {
     "name": "stdout",
     "output_type": "stream",
     "text": [
      "<class 'pandas.core.frame.DataFrame'>\n",
      "RangeIndex: 8857 entries, 0 to 8856\n",
      "Data columns (total 7 columns):\n",
      " #   Column     Non-Null Count  Dtype  \n",
      "---  ------     --------------  -----  \n",
      " 0   Date       8857 non-null   object \n",
      " 1   Open       8857 non-null   float64\n",
      " 2   High       8857 non-null   float64\n",
      " 3   Low        8857 non-null   float64\n",
      " 4   Close      8857 non-null   float64\n",
      " 5   Adj Close  8857 non-null   float64\n",
      " 6   Volume     8857 non-null   int64  \n",
      "dtypes: float64(5), int64(1), object(1)\n",
      "memory usage: 484.5+ KB\n"
     ]
    }
   ],
   "source": [
    "df.info()"
   ]
  },
  {
   "cell_type": "code",
   "execution_count": 11,
   "id": "7cef7dff",
   "metadata": {},
   "outputs": [
    {
     "data": {
      "image/png": "[encoded data removed]",
      "text/plain": [
       "<Figure size 1008x576 with 1 Axes>"
      ]
     },
     "metadata": {
      "needs_background": "light"
     },
     "output_type": "display_data"
    }
   ],
   "source": [
    "# Visualize the data\n",
    "plt.figure(figsize=(14, 8))\n",
    "plt.title('MSFT Stock Price')\n",
    "plt.plot(df['Date'], df['Close'], label='Close Price')\n",
    "plt.plot(df['Date'], df['Open'], label='Open Price')\n",
    "plt.xlabel('Date')\n",
    "plt.ylabel('Price (USD)')\n",
    "plt.xticks(np.arange(0, len(df), step=len(df)//10), rotation=45)\n",
    "plt.legend()\n",
    "plt.grid(True)\n",
    "plt.show()"
   ]
  },
  {
   "cell_type": "markdown",
   "id": "d14a7687",
   "metadata": {},
   "source": [
    "# Data Preprocessing"
   ]
  },
  {
   "cell_type": "code",
   "execution_count": 12,
   "id": "ae070635",
   "metadata": {},
   "outputs": [],
   "source": [
    "# Extract the 'Close' prices\n",
    "data = df['Close'].values.reshape(-1, 1)\n",
    "\n",
    "# Normalize the data between 0 and 1\n",
    "scaler = MinMaxScaler()\n",
    "data = scaler.fit_transform(data)\n",
    "n_steps = 30\n",
    "\n",
    "# Create sequences of data with the specified time steps\n",
    "X, y = [], []\n",
    "for i in range(n_steps, len(data)):\n",
    "    X.append(data[i - n_steps:i, 0])\n",
    "    y.append(data[i, 0])\n",
    "\n",
    "X, y = np.array(X), np.array(y)"
   ]
  },
  {
   "cell_type": "code",
   "execution_count": 13,
   "id": "bb7c33cf",
   "metadata": {},
   "outputs": [],
   "source": [
    "# Split the data into training and testing sets (e.g., 80% training, 20% testing)\n",
    "train_size = int(len(data) * 0.8)\n",
    "X_train, X_test, y_train, y_test = X[:train_size], X[train_size:], y[:train_size], y[train_size:]"
   ]
  },
  {
   "cell_type": "markdown",
   "id": "e57cac49",
   "metadata": {},
   "source": [
    "# Build the LSTM Model"
   ]
  },
  {
   "cell_type": "code",
   "execution_count": 14,
   "id": "fce41058",
   "metadata": {},
   "outputs": [
    {
     "name": "stdout",
     "output_type": "stream",
     "text": [
      "Model: \"sequential\"\n",
      "_________________________________________________________________\n",
      " Layer (type)                Output Shape              Param #   \n",
      "=================================================================\n",
      " lstm (LSTM)                 (None, 30, 50)            10400     \n",
      "                                                                 \n",
      " lstm_1 (LSTM)               (None, 50)                20200     \n",
      "                                                                 \n",
      " dense (Dense)               (None, 1)                 51        \n",
      "                                                                 \n",
      "=================================================================\n",
      "Total params: 30651 (119.73 KB)\n",
      "Trainable params: 30651 (119.73 KB)\n",
      "Non-trainable params: 0 (0.00 Byte)\n",
      "_________________________________________________________________\n",
      "None\n"
     ]
    }
   ],
   "source": [
    "model = Sequential()\n",
    "\n",
    "model.add(LSTM(units=50, activation='relu', return_sequences=True, input_shape=(X_train.shape[1], 1)))\n",
    "model.add(LSTM(units=50, activation='relu'))\n",
    "model.add(Dense(units=1))\n",
    "model.compile(optimizer='adam', loss='mean_squared_error')\n",
    "\n",
    "print(model.summary())\n"
   ]
  },
  {
   "cell_type": "markdown",
   "id": "43a0fa6d",
   "metadata": {},
   "source": [
    "# Train the Model"
   ]
  },
  {
   "cell_type": "code",
   "execution_count": 15,
   "id": "ba3cc4cf",
   "metadata": {},
   "outputs": [
    {
     "name": "stdout",
     "output_type": "stream",
     "text": [
      "Epoch 1/50\n",
      "222/222 [==============================] - 9s 25ms/step - loss: 3.7783e-04 - val_loss: 0.0100\n",
      "Epoch 2/50\n",
      "222/222 [==============================] - 5s 22ms/step - loss: 2.3452e-05 - val_loss: 0.0099\n",
      "Epoch 3/50\n",
      "222/222 [==============================] - 4s 20ms/step - loss: 2.2862e-05 - val_loss: 0.0086\n",
      "Epoch 4/50\n",
      "222/222 [==============================] - 4s 16ms/step - loss: 1.9436e-05 - val_loss: 0.0043\n",
      "Epoch 5/50\n",
      "222/222 [==============================] - 4s 16ms/step - loss: 1.9048e-05 - val_loss: 0.0056\n",
      "Epoch 6/50\n",
      "222/222 [==============================] - 4s 16ms/step - loss: 1.7587e-05 - val_loss: 0.0025\n",
      "Epoch 7/50\n",
      "222/222 [==============================] - 4s 16ms/step - loss: 1.6891e-05 - val_loss: 0.0020\n",
      "Epoch 8/50\n",
      "222/222 [==============================] - 4s 16ms/step - loss: 1.6112e-05 - val_loss: 8.6731e-04\n",
      "Epoch 9/50\n",
      "222/222 [==============================] - 4s 16ms/step - loss: 1.6398e-05 - val_loss: 0.0022\n",
      "Epoch 10/50\n",
      "222/222 [==============================] - 4s 16ms/step - loss: 1.3890e-05 - val_loss: 0.0019\n",
      "Epoch 11/50\n",
      "222/222 [==============================] - 4s 16ms/step - loss: 1.3465e-05 - val_loss: 0.0012\n",
      "Epoch 12/50\n",
      "222/222 [==============================] - 4s 16ms/step - loss: 1.3212e-05 - val_loss: 0.0015\n",
      "Epoch 13/50\n",
      "222/222 [==============================] - 4s 16ms/step - loss: 1.1658e-05 - val_loss: 0.0018\n",
      "Epoch 14/50\n",
      "222/222 [==============================] - 4s 16ms/step - loss: 1.1153e-05 - val_loss: 0.0018\n",
      "Epoch 15/50\n",
      "222/222 [==============================] - 4s 16ms/step - loss: 1.1291e-05 - val_loss: 0.0011\n",
      "Epoch 16/50\n",
      "222/222 [==============================] - 4s 17ms/step - loss: 1.0101e-05 - val_loss: 0.0013\n",
      "Epoch 17/50\n",
      "222/222 [==============================] - 4s 17ms/step - loss: 1.0449e-05 - val_loss: 0.0010\n",
      "Epoch 18/50\n",
      "222/222 [==============================] - 4s 17ms/step - loss: 1.0043e-05 - val_loss: 0.0013\n",
      "Epoch 19/50\n",
      "222/222 [==============================] - 4s 17ms/step - loss: 9.9834e-06 - val_loss: 0.0020\n",
      "Epoch 20/50\n",
      "222/222 [==============================] - 4s 16ms/step - loss: 9.8800e-06 - val_loss: 0.0018\n",
      "Epoch 21/50\n",
      "222/222 [==============================] - 4s 16ms/step - loss: 8.4293e-06 - val_loss: 0.0023\n",
      "Epoch 22/50\n",
      "222/222 [==============================] - 4s 16ms/step - loss: 9.4634e-06 - val_loss: 0.0015\n",
      "Epoch 23/50\n",
      "222/222 [==============================] - 4s 16ms/step - loss: 8.7685e-06 - val_loss: 0.0024\n",
      "Epoch 24/50\n",
      "222/222 [==============================] - 4s 17ms/step - loss: 8.3456e-06 - val_loss: 0.0017\n",
      "Epoch 25/50\n",
      "222/222 [==============================] - 4s 16ms/step - loss: 7.6998e-06 - val_loss: 0.0017\n",
      "Epoch 26/50\n",
      "222/222 [==============================] - 4s 17ms/step - loss: 8.0259e-06 - val_loss: 0.0034\n",
      "Epoch 27/50\n",
      "222/222 [==============================] - 4s 17ms/step - loss: 6.6264e-06 - val_loss: 0.0022\n",
      "Epoch 28/50\n",
      "222/222 [==============================] - 4s 17ms/step - loss: 7.0414e-06 - val_loss: 0.0022\n",
      "Epoch 29/50\n",
      "222/222 [==============================] - 4s 17ms/step - loss: 6.5505e-06 - val_loss: 0.0029\n",
      "Epoch 30/50\n",
      "222/222 [==============================] - 4s 17ms/step - loss: 6.4231e-06 - val_loss: 0.0020\n",
      "Epoch 31/50\n",
      "222/222 [==============================] - 4s 17ms/step - loss: 6.0895e-06 - val_loss: 0.0020\n",
      "Epoch 32/50\n",
      "222/222 [==============================] - 4s 17ms/step - loss: 6.2330e-06 - val_loss: 9.6409e-04\n",
      "Epoch 33/50\n",
      "222/222 [==============================] - 4s 17ms/step - loss: 6.2466e-06 - val_loss: 0.0013\n",
      "Epoch 34/50\n",
      "222/222 [==============================] - 4s 17ms/step - loss: 5.6599e-06 - val_loss: 0.0032\n",
      "Epoch 35/50\n",
      "222/222 [==============================] - 4s 17ms/step - loss: 5.3228e-06 - val_loss: 0.0012\n",
      "Epoch 36/50\n",
      "222/222 [==============================] - 4s 17ms/step - loss: 5.5915e-06 - val_loss: 9.4866e-04\n",
      "Epoch 37/50\n",
      "222/222 [==============================] - 4s 17ms/step - loss: 5.2958e-06 - val_loss: 0.0013\n",
      "Epoch 38/50\n",
      "222/222 [==============================] - 4s 17ms/step - loss: 5.1461e-06 - val_loss: 8.0869e-04\n",
      "Epoch 39/50\n",
      "222/222 [==============================] - 4s 17ms/step - loss: 5.6570e-06 - val_loss: 0.0011\n",
      "Epoch 40/50\n",
      "222/222 [==============================] - 4s 17ms/step - loss: 5.0401e-06 - val_loss: 6.4858e-04\n",
      "Epoch 41/50\n",
      "222/222 [==============================] - 4s 17ms/step - loss: 4.8537e-06 - val_loss: 0.0011\n",
      "Epoch 42/50\n",
      "222/222 [==============================] - 4s 17ms/step - loss: 5.1237e-06 - val_loss: 0.0017\n",
      "Epoch 43/50\n",
      "222/222 [==============================] - 4s 17ms/step - loss: 5.7516e-06 - val_loss: 8.1607e-04\n",
      "Epoch 44/50\n",
      "222/222 [==============================] - 4s 17ms/step - loss: 4.6681e-06 - val_loss: 6.8061e-04\n",
      "Epoch 45/50\n",
      "222/222 [==============================] - 4s 17ms/step - loss: 4.9061e-06 - val_loss: 0.0020\n",
      "Epoch 46/50\n",
      "222/222 [==============================] - 4s 17ms/step - loss: 4.9642e-06 - val_loss: 9.7930e-04\n",
      "Epoch 47/50\n",
      "222/222 [==============================] - 4s 17ms/step - loss: 5.1601e-06 - val_loss: 0.0014\n",
      "Epoch 48/50\n",
      "222/222 [==============================] - 4s 17ms/step - loss: 5.3205e-06 - val_loss: 0.0013\n",
      "Epoch 49/50\n",
      "222/222 [==============================] - 4s 17ms/step - loss: 4.7877e-06 - val_loss: 0.0017\n",
      "Epoch 50/50\n",
      "222/222 [==============================] - 4s 17ms/step - loss: 4.3937e-06 - val_loss: 0.0016\n"
     ]
    }
   ],
   "source": [
    "# Train the model\n",
    "history=model.fit(X_train, y_train, epochs=50, batch_size=32 ,validation_data=(X_test, y_test))"
   ]
  },
  {
   "cell_type": "markdown",
   "id": "02f8a274",
   "metadata": {},
   "source": [
    "# Evaluate the Model"
   ]
  },
  {
   "cell_type": "code",
   "execution_count": 16,
   "id": "67189ee6",
   "metadata": {},
   "outputs": [
    {
     "name": "stdout",
     "output_type": "stream",
     "text": [
      "55/55 [==============================] - 1s 10ms/step - loss: 0.0016\n",
      "Test Loss: 0.00159\n"
     ]
    }
   ],
   "source": [
    "# Evaluate the model on the testing data\n",
    "loss = model.evaluate(X_test, y_test)\n",
    "print(f\"Test Loss: {loss:.5f}\")"
   ]
  },
  {
   "cell_type": "code",
   "execution_count": 17,
   "id": "25168205",
   "metadata": {},
   "outputs": [
    {
     "data": {
      "image/png": "[encoded data removed]",
      "text/plain": [
       "<Figure size 864x432 with 1 Axes>"
      ]
     },
     "metadata": {
      "needs_background": "light"
     },
     "output_type": "display_data"
    }
   ],
   "source": [
    "# Plot Training and Validation Loss\n",
    "plt.figure(figsize=(12, 6))\n",
    "plt.plot(history.history['loss'], label='Training Loss')\n",
    "plt.plot(history.history['val_loss'], label='Validation Loss')\n",
    "plt.title('Training and Validation Loss')\n",
    "plt.xlabel('Epochs')\n",
    "plt.ylabel('Loss')\n",
    "plt.legend()\n",
    "plt.grid(True)\n",
    "plt.show()"
   ]
  },
  {
   "cell_type": "markdown",
   "id": "654d855b",
   "metadata": {},
   "source": [
    "# Make Predictions"
   ]
  },
  {
   "cell_type": "code",
   "execution_count": 18,
   "id": "0aa8035b",
   "metadata": {},
   "outputs": [
    {
     "name": "stdout",
     "output_type": "stream",
     "text": [
      "55/55 [==============================] - 1s 10ms/step\n"
     ]
    }
   ],
   "source": [
    "predictions = model.predict(X_test)\n",
    "\n",
    "# Inverse transform the predictions to get actual stock prices\n",
    "predictions = scaler.inverse_transform(predictions)"
   ]
  },
  {
   "cell_type": "markdown",
   "id": "bb9b6e0a",
   "metadata": {},
   "source": [
    "# Visualize the Predicted and Actual Stock Prices"
   ]
  },
  {
   "cell_type": "code",
   "execution_count": 19,
   "id": "b5e50532",
   "metadata": {},
   "outputs": [
    {
     "data": {
      "image/png": "[encoded data removed]",
      "text/plain": [
       "<Figure size 864x432 with 1 Axes>"
      ]
     },
     "metadata": {
      "needs_background": "light"
     },
     "output_type": "display_data"
    }
   ],
   "source": [
    "# Plot Predicted and Actual Stock Prices\n",
    "plt.figure(figsize=(12, 6))\n",
    "plt.title('MSFT Stock Price Prediction')\n",
    "plt.plot(df['Date'].values[train_size + n_steps:], y_test, label='Actual Price', linestyle='--')\n",
    "plt.plot(df['Date'].values[train_size + n_steps:], predictions, label='Predicted Price')\n",
    "plt.xlabel('Date')\n",
    "plt.ylabel('Close Price (USD)')\n",
    "plt.legend()\n",
    "plt.xticks(np.arange(train_size + n_steps, len(df), step=len(df)//10), rotation=45)\n",
    "plt.grid(True)\n",
    "plt.show()"
   ]
  },
  {
   "cell_type": "markdown",
   "id": "a1e8c8de",
   "metadata": {},
   "source": [
    "# Visualize Residuals (Prediction Errors):"
   ]
  },
  {
   "cell_type": "code",
   "execution_count": 20,
   "id": "d05c0559",
   "metadata": {
    "scrolled": false
   },
   "outputs": [
    {
     "data": {
      "image/png": "[encoded data removed]",
      "text/plain": [
       "<Figure size 864x432 with 1 Axes>"
      ]
     },
     "metadata": {
      "needs_background": "light"
     },
     "output_type": "display_data"
    }
   ],
   "source": [
    "residuals = y_test - predictions.reshape(-1)\n",
    "\n",
    "# Plot the residuals\n",
    "plt.figure(figsize=(12, 6))\n",
    "plt.title('Residuals Analysis')\n",
    "plt.plot(df['Date'].values[train_size + n_steps:], residuals, label='Residuals')\n",
    "plt.axhline(y=0, color='r', linestyle='--', label='Zero Error Line')\n",
    "plt.xlabel('Date')\n",
    "plt.ylabel('Prediction Error')\n",
    "plt.legend()\n",
    "plt.xticks(np.arange(train_size + n_steps, len(df), step=len(df)//10), rotation=45)\n",
    "plt.grid(True)\n",
    "plt.show()\n"
   ]
  },
  {
   "cell_type": "markdown",
   "id": "69216a40",
   "metadata": {},
   "source": [
    "# Visualize Model Predictions vs. Actual Prices on the Training Data"
   ]
  },
  {
   "cell_type": "code",
   "execution_count": 21,
   "id": "4b78436f",
   "metadata": {},
   "outputs": [
    {
     "name": "stdout",
     "output_type": "stream",
     "text": [
      "222/222 [==============================] - 2s 9ms/step\n"
     ]
    },
    {
     "data": {
      "image/png": "[encoded data removed]",
      "text/plain": [
       "<Figure size 864x432 with 1 Axes>"
      ]
     },
     "metadata": {
      "needs_background": "light"
     },
     "output_type": "display_data"
    }
   ],
   "source": [
    "# predictions on the training data\n",
    "train_predictions = model.predict(X_train)\n",
    "train_predictions = scaler.inverse_transform(train_predictions)\n",
    "\n",
    "# Plot the Predicted vs. Actual Stock Prices on the training data\n",
    "plt.figure(figsize=(12, 6))\n",
    "plt.title('Training Data: Predicted vs. Actual MSFT Stock Price')\n",
    "plt.plot(df['Date'].values[n_steps:train_size + n_steps], y_train, label='Actual Price (Train)', linestyle='--')\n",
    "plt.plot(df['Date'].values[n_steps:train_size + n_steps], train_predictions, label='Predicted Price (Train)')\n",
    "plt.xlabel('Date')\n",
    "plt.ylabel('Close Price (USD)')\n",
    "plt.legend()\n",
    "plt.xticks(np.arange(n_steps, train_size + n_steps, step=train_size//10), rotation=45)\n",
    "plt.grid(True)\n",
    "plt.show()\n"
   ]
  },
  {
   "cell_type": "markdown",
   "id": "06adcee8",
   "metadata": {},
   "source": [
    "Thank You "
   ]
  }
 ],
 "metadata": {
  "kernelspec": {
   "display_name": "Python 3 (ipykernel)",
   "language": "python",
   "name": "python3"
  },
  "language_info": {
   "codemirror_mode": {
    "name": "ipython",
    "version": 3
   },
   "file_extension": ".py",
   "mimetype": "text/x-python",
   "name": "python",
   "nbconvert_exporter": "python",
   "pygments_lexer": "ipython3",
   "version": "3.9.7"
  }
 },
 "nbformat": 4,
 "nbformat_minor": 5
}
